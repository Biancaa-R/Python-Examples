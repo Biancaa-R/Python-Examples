{
  "nbformat": 4,
  "nbformat_minor": 0,
  "metadata": {
    "colab": {
      "name": "numbers.ipynb",
      "provenance": [],
      "authorship_tag": "ABX9TyM/MLspoL0k3zAWOtIPqNRc",
      "include_colab_link": true
    },
    "kernelspec": {
      "name": "python3",
      "display_name": "Python 3"
    },
    "language_info": {
      "name": "python"
    }
  },
  "cells": [
    {
      "cell_type": "markdown",
      "metadata": {
        "id": "view-in-github",
        "colab_type": "text"
      },
      "source": [
        "<a href=\"https://colab.research.google.com/github/Biancaa-R/using-numbers-python/blob/main/numbers.ipynb\" target=\"_parent\"><img src=\"https://colab.research.google.com/assets/colab-badge.svg\" alt=\"Open In Colab\"/></a>"
      ]
    },
    {
      "cell_type": "code",
      "metadata": {
        "id": "5YIHts07dbjw"
      },
      "source": [
        ""
      ],
      "execution_count": null,
      "outputs": []
    },
    {
      "cell_type": "markdown",
      "metadata": {
        "id": "wah10u0yd8R3"
      },
      "source": [
        "Python program to find the factorial of a number"
      ]
    },
    {
      "cell_type": "code",
      "metadata": {
        "colab": {
          "base_uri": "https://localhost:8080/"
        },
        "id": "_5yT4Nd7dtw6",
        "outputId": "e97b5ca9-f6fe-49af-f852-bd588c753b3f"
      },
      "source": [
        "# Python program to find the factorial of a number provided by the user.\n",
        "\n",
        "# change the value for a different result\n",
        "num = 0\n",
        "num=int(input(\"enter the number to find factorial\"))\n",
        "\n",
        "# To take input from the user\n",
        "#num = int(input(\"Enter a number: \"))\n",
        "\n",
        "factorial = 1\n",
        "\n",
        "# check if the number is negative, positive or zero\n",
        "if num < 0:\n",
        "   print(\"Sorry, factorial does not exist for negative numbers\")\n",
        "elif num == 0:\n",
        "   print(\"The factorial of 0 is 1\")\n",
        "else:\n",
        "   for i in range(1,num + 1):\n",
        "       factorial*=i\n",
        "   print(\"The factorial of\",num,\"is\",factorial)\n",
        "\n"
      ],
      "execution_count": 1,
      "outputs": [
        {
          "output_type": "stream",
          "text": [
            "enter the number to find factorial12\n",
            "The factorial of 12 is 479001600\n"
          ],
          "name": "stdout"
        }
      ]
    },
    {
      "cell_type": "markdown",
      "metadata": {
        "id": "hG2g9OD2ec3L"
      },
      "source": [
        "program to find multiplication table of any number"
      ]
    },
    {
      "cell_type": "code",
      "metadata": {
        "colab": {
          "base_uri": "https://localhost:8080/"
        },
        "id": "fGBAxRQWeIaS",
        "outputId": "feb7d83f-fc73-455e-d119-f3cf00f761f4"
      },
      "source": [
        "y= int(input(\"enter the number to find multiplication table\"))\n",
        "z=int(input(\"enter the number of rows\"))\n",
        "\n",
        "for i in range(0,z+1):\n",
        "\n",
        "    if i==0:\n",
        "        continue\n",
        "    if y==0:\n",
        "        print(\"error\")\n",
        "        break\n",
        "\n",
        "    print(i ,\"x\", y,\"=\",i*y)\n",
        "\n",
        "    sum_=0\n",
        "    sum_=sum_+i*y \n",
        "    \n",
        "    print( \"the sum of the multiplied terms till now is\",sum_)\n",
        "    \n",
        "\n",
        "print(\"the cummulaive frequency is\")\n",
        "for i in range(0,z+1):\n",
        "\n",
        "    if i==0:\n",
        "        continue\n",
        "    if y==0:\n",
        "        print(\"error\")\n",
        "        print(\"the number to be multiplied cannot be zero\")\n",
        "        break\n",
        "\n",
        "    sum_=0\n",
        "    sum_=sum_+i*y\n",
        "\n",
        "    print(sum_)\n"
      ],
      "execution_count": 3,
      "outputs": [
        {
          "output_type": "stream",
          "text": [
            "enter the number to find multiplication table24\n",
            "enter the number of rows15\n",
            "1 x 24 = 24\n",
            "the sum of the multiplied terms till now is 24\n",
            "2 x 24 = 48\n",
            "the sum of the multiplied terms till now is 48\n",
            "3 x 24 = 72\n",
            "the sum of the multiplied terms till now is 72\n",
            "4 x 24 = 96\n",
            "the sum of the multiplied terms till now is 96\n",
            "5 x 24 = 120\n",
            "the sum of the multiplied terms till now is 120\n",
            "6 x 24 = 144\n",
            "the sum of the multiplied terms till now is 144\n",
            "7 x 24 = 168\n",
            "the sum of the multiplied terms till now is 168\n",
            "8 x 24 = 192\n",
            "the sum of the multiplied terms till now is 192\n",
            "9 x 24 = 216\n",
            "the sum of the multiplied terms till now is 216\n",
            "10 x 24 = 240\n",
            "the sum of the multiplied terms till now is 240\n",
            "11 x 24 = 264\n",
            "the sum of the multiplied terms till now is 264\n",
            "12 x 24 = 288\n",
            "the sum of the multiplied terms till now is 288\n",
            "13 x 24 = 312\n",
            "the sum of the multiplied terms till now is 312\n",
            "14 x 24 = 336\n",
            "the sum of the multiplied terms till now is 336\n",
            "15 x 24 = 360\n",
            "the sum of the multiplied terms till now is 360\n",
            "the cummulaive frequency is\n",
            "24\n",
            "48\n",
            "72\n",
            "96\n",
            "120\n",
            "144\n",
            "168\n",
            "192\n",
            "216\n",
            "240\n",
            "264\n",
            "288\n",
            "312\n",
            "336\n",
            "360\n"
          ],
          "name": "stdout"
        }
      ]
    }
  ]
}